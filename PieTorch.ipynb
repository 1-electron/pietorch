{
 "cells": [
  {
   "cell_type": "markdown",
   "metadata": {},
   "source": [
    "1/14/20; 1/16/20"
   ]
  },
  {
   "cell_type": "markdown",
   "metadata": {},
   "source": [
    "* everyone should know their children\n",
    "* include tests"
   ]
  },
  {
   "cell_type": "code",
   "execution_count": 1,
   "metadata": {},
   "outputs": [],
   "source": [
    "from Tensor import Tensor\n",
    "from Op import Add, MULTIPLY"
   ]
  },
  {
   "cell_type": "code",
   "execution_count": 2,
   "metadata": {},
   "outputs": [],
   "source": [
    "X = Tensor(val=-2, name=\"X\")\n",
    "Y = Tensor(val=5, name=\"Y\")\n",
    "Q = Add(X, Y)\n",
    "Z = Tensor(val=-4, name=\"Z\")\n",
    "F = MULTIPLY(Q, Z)"
   ]
  },
  {
   "cell_type": "code",
   "execution_count": 3,
   "metadata": {},
   "outputs": [
    {
     "data": {
      "text/plain": [
       "('White', 'White', 'White', 'White', 'White')"
      ]
     },
     "execution_count": 3,
     "metadata": {},
     "output_type": "execute_result"
    }
   ],
   "source": [
    "X.color, Y.color, Q.color, Z.color, F.color"
   ]
  },
  {
   "cell_type": "code",
   "execution_count": 4,
   "metadata": {},
   "outputs": [
    {
     "name": "stdout",
     "output_type": "stream",
     "text": [
      "X\n",
      "Add\n",
      "Multiply\n",
      "--------------------\n",
      "Y\n",
      "Add\n",
      "Multiply\n",
      "--------------------\n",
      "Z\n",
      "Multiply\n",
      "--------------------\n"
     ]
    }
   ],
   "source": [
    "F.backward()"
   ]
  },
  {
   "cell_type": "code",
   "execution_count": 5,
   "metadata": {},
   "outputs": [
    {
     "data": {
      "text/plain": [
       "('Black', 'Black', 'Black', 'Black', 'Black')"
      ]
     },
     "execution_count": 5,
     "metadata": {},
     "output_type": "execute_result"
    }
   ],
   "source": [
    "X.color, Y.color, Q.color, Z.color, F.color"
   ]
  },
  {
   "cell_type": "code",
   "execution_count": 6,
   "metadata": {},
   "outputs": [
    {
     "data": {
      "text/plain": [
       "(array(1.), array(1.), -4.0, 3.0, 0)"
      ]
     },
     "execution_count": 6,
     "metadata": {},
     "output_type": "execute_result"
    }
   ],
   "source": [
    "X.grad, Y.grad, Q.grad, Z.grad, F.grad"
   ]
  },
  {
   "cell_type": "code",
   "execution_count": null,
   "metadata": {},
   "outputs": [],
   "source": []
  },
  {
   "cell_type": "code",
   "execution_count": null,
   "metadata": {},
   "outputs": [],
   "source": []
  },
  {
   "cell_type": "code",
   "execution_count": null,
   "metadata": {},
   "outputs": [],
   "source": []
  },
  {
   "cell_type": "code",
   "execution_count": null,
   "metadata": {},
   "outputs": [],
   "source": []
  },
  {
   "cell_type": "code",
   "execution_count": null,
   "metadata": {},
   "outputs": [],
   "source": []
  },
  {
   "cell_type": "code",
   "execution_count": 852,
   "metadata": {},
   "outputs": [],
   "source": [
    "class OPTIMIZER():\n",
    "    \n",
    "    def __init__(self):\n",
    "        \n",
    "        # find all Tensors which will be updated\n",
    "        # https://stackoverflow.com/questions/633127/viewing-all-defined-variables\n",
    "        self.ls_tensors = [v for k, v in globals().copy().items() if type(v) is TENSOR]\n",
    "        \n",
    "    def step(self):\n",
    "        for T in self.ls_tensors:\n",
    "            \n",
    "            # if T is a terminal node, that means it is a learnable weight \n",
    "            if T.terminal:\n",
    "                T._update()\n",
    "            else:\n",
    "                pass"
   ]
  },
  {
   "cell_type": "code",
   "execution_count": 853,
   "metadata": {},
   "outputs": [],
   "source": [
    "O = OPTIMIZER()\n",
    "O.step()"
   ]
  },
  {
   "cell_type": "code",
   "execution_count": null,
   "metadata": {},
   "outputs": [],
   "source": [
    "X.val, Y.val, Q.val, Z.grad, F.grad"
   ]
  }
 ],
 "metadata": {
  "kernelspec": {
   "display_name": "Python 3",
   "language": "python",
   "name": "python3"
  },
  "language_info": {
   "codemirror_mode": {
    "name": "ipython",
    "version": 3
   },
   "file_extension": ".py",
   "mimetype": "text/x-python",
   "name": "python",
   "nbconvert_exporter": "python",
   "pygments_lexer": "ipython3",
   "version": "3.7.3"
  }
 },
 "nbformat": 4,
 "nbformat_minor": 2
}
